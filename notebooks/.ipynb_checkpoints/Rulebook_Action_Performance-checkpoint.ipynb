{
 "cells": [
  {
   "cell_type": "code",
   "execution_count": 1,
   "id": "19fcf4ca-1b18-4ed3-9d74-3ae973c0e269",
   "metadata": {},
   "outputs": [],
   "source": [
    "%matplotlib inline"
   ]
  },
  {
   "cell_type": "code",
   "execution_count": 2,
   "id": "0c68755f-7f84-40ca-82f1-12096cd52f9a",
   "metadata": {},
   "outputs": [],
   "source": [
    "import pandas"
   ]
  },
  {
   "cell_type": "code",
   "execution_count": 4,
   "id": "dca9789e-eb8c-46c1-9858-47c93feee60c",
   "metadata": {},
   "outputs": [
    {
     "data": {
      "text/html": [
       "<div>\n",
       "<style scoped>\n",
       "    .dataframe tbody tr th:only-of-type {\n",
       "        vertical-align: middle;\n",
       "    }\n",
       "\n",
       "    .dataframe tbody tr th {\n",
       "        vertical-align: top;\n",
       "    }\n",
       "\n",
       "    .dataframe thead th {\n",
       "        text-align: right;\n",
       "    }\n",
       "</style>\n",
       "<table border=\"1\" class=\"dataframe\">\n",
       "  <thead>\n",
       "    <tr style=\"text-align: right;\">\n",
       "      <th></th>\n",
       "      <th>cmd</th>\n",
       "      <th>name</th>\n",
       "      <th>type</th>\n",
       "      <th>n</th>\n",
       "      <th>time</th>\n",
       "      <th>cpu_percent</th>\n",
       "      <th>memory_usage</th>\n",
       "    </tr>\n",
       "  </thead>\n",
       "  <tbody>\n",
       "    <tr>\n",
       "      <th>0</th>\n",
       "      <td>ansible-rulebook -A rule_action --rulebook rul...</td>\n",
       "      <td>ansible-rulebook</td>\n",
       "      <td>post1.yml</td>\n",
       "      <td>1</td>\n",
       "      <td>1.045925</td>\n",
       "      <td>18.7</td>\n",
       "      <td>136265728</td>\n",
       "    </tr>\n",
       "    <tr>\n",
       "      <th>1</th>\n",
       "      <td>ansible-rulebook -A rule_action --rulebook rul...</td>\n",
       "      <td>ansible-rulebook</td>\n",
       "      <td>post10.yml</td>\n",
       "      <td>10</td>\n",
       "      <td>1.048567</td>\n",
       "      <td>20.4</td>\n",
       "      <td>140656640</td>\n",
       "    </tr>\n",
       "    <tr>\n",
       "      <th>2</th>\n",
       "      <td>ansible-rulebook -A rule_action --rulebook rul...</td>\n",
       "      <td>ansible-rulebook</td>\n",
       "      <td>post100.yml</td>\n",
       "      <td>100</td>\n",
       "      <td>1.151321</td>\n",
       "      <td>21.4</td>\n",
       "      <td>138641408</td>\n",
       "    </tr>\n",
       "    <tr>\n",
       "      <th>3</th>\n",
       "      <td>ansible-rulebook -A rule_action --rulebook rul...</td>\n",
       "      <td>ansible-rulebook</td>\n",
       "      <td>post1000.yml</td>\n",
       "      <td>1000</td>\n",
       "      <td>3.072853</td>\n",
       "      <td>23.1</td>\n",
       "      <td>145588224</td>\n",
       "    </tr>\n",
       "    <tr>\n",
       "      <th>0</th>\n",
       "      <td>ansible-rulebook -A rule_action --rulebook rul...</td>\n",
       "      <td>ansible-rulebook-parallel</td>\n",
       "      <td>post1.yml</td>\n",
       "      <td>1</td>\n",
       "      <td>0.941165</td>\n",
       "      <td>0.0</td>\n",
       "      <td>136544256</td>\n",
       "    </tr>\n",
       "    <tr>\n",
       "      <th>1</th>\n",
       "      <td>ansible-rulebook -A rule_action --rulebook rul...</td>\n",
       "      <td>ansible-rulebook-parallel</td>\n",
       "      <td>post10.yml</td>\n",
       "      <td>10</td>\n",
       "      <td>0.938898</td>\n",
       "      <td>17.7</td>\n",
       "      <td>136658944</td>\n",
       "    </tr>\n",
       "    <tr>\n",
       "      <th>2</th>\n",
       "      <td>ansible-rulebook -A rule_action --rulebook rul...</td>\n",
       "      <td>ansible-rulebook-parallel</td>\n",
       "      <td>post100.yml</td>\n",
       "      <td>100</td>\n",
       "      <td>1.047143</td>\n",
       "      <td>19.0</td>\n",
       "      <td>140853248</td>\n",
       "    </tr>\n",
       "    <tr>\n",
       "      <th>3</th>\n",
       "      <td>ansible-rulebook -A rule_action --rulebook rul...</td>\n",
       "      <td>ansible-rulebook-parallel</td>\n",
       "      <td>post1000.yml</td>\n",
       "      <td>1000</td>\n",
       "      <td>2.055027</td>\n",
       "      <td>24.1</td>\n",
       "      <td>152338432</td>\n",
       "    </tr>\n",
       "    <tr>\n",
       "      <th>0</th>\n",
       "      <td>ansible-playbook playbooks/post1.yml</td>\n",
       "      <td>ansible-playbook</td>\n",
       "      <td>post1.yml</td>\n",
       "      <td>1</td>\n",
       "      <td>1.254149</td>\n",
       "      <td>18.6</td>\n",
       "      <td>53641216</td>\n",
       "    </tr>\n",
       "    <tr>\n",
       "      <th>1</th>\n",
       "      <td>ansible-playbook playbooks/post10.yml</td>\n",
       "      <td>ansible-playbook</td>\n",
       "      <td>post10.yml</td>\n",
       "      <td>10</td>\n",
       "      <td>2.775639</td>\n",
       "      <td>20.7</td>\n",
       "      <td>52969472</td>\n",
       "    </tr>\n",
       "    <tr>\n",
       "      <th>2</th>\n",
       "      <td>ansible-playbook playbooks/post100.yml</td>\n",
       "      <td>ansible-playbook</td>\n",
       "      <td>post100.yml</td>\n",
       "      <td>100</td>\n",
       "      <td>20.870235</td>\n",
       "      <td>20.8</td>\n",
       "      <td>56082432</td>\n",
       "    </tr>\n",
       "    <tr>\n",
       "      <th>3</th>\n",
       "      <td>ansible-playbook playbooks/post1000.yml</td>\n",
       "      <td>ansible-playbook</td>\n",
       "      <td>post1000.yml</td>\n",
       "      <td>1000</td>\n",
       "      <td>203.139055</td>\n",
       "      <td>21.1</td>\n",
       "      <td>69992448</td>\n",
       "    </tr>\n",
       "  </tbody>\n",
       "</table>\n",
       "</div>"
      ],
      "text/plain": [
       "                                                 cmd  \\\n",
       "0  ansible-rulebook -A rule_action --rulebook rul...   \n",
       "1  ansible-rulebook -A rule_action --rulebook rul...   \n",
       "2  ansible-rulebook -A rule_action --rulebook rul...   \n",
       "3  ansible-rulebook -A rule_action --rulebook rul...   \n",
       "0  ansible-rulebook -A rule_action --rulebook rul...   \n",
       "1  ansible-rulebook -A rule_action --rulebook rul...   \n",
       "2  ansible-rulebook -A rule_action --rulebook rul...   \n",
       "3  ansible-rulebook -A rule_action --rulebook rul...   \n",
       "0               ansible-playbook playbooks/post1.yml   \n",
       "1              ansible-playbook playbooks/post10.yml   \n",
       "2             ansible-playbook playbooks/post100.yml   \n",
       "3            ansible-playbook playbooks/post1000.yml   \n",
       "\n",
       "                        name          type     n        time  cpu_percent  \\\n",
       "0           ansible-rulebook     post1.yml     1    1.045925         18.7   \n",
       "1           ansible-rulebook    post10.yml    10    1.048567         20.4   \n",
       "2           ansible-rulebook   post100.yml   100    1.151321         21.4   \n",
       "3           ansible-rulebook  post1000.yml  1000    3.072853         23.1   \n",
       "0  ansible-rulebook-parallel     post1.yml     1    0.941165          0.0   \n",
       "1  ansible-rulebook-parallel    post10.yml    10    0.938898         17.7   \n",
       "2  ansible-rulebook-parallel   post100.yml   100    1.047143         19.0   \n",
       "3  ansible-rulebook-parallel  post1000.yml  1000    2.055027         24.1   \n",
       "0           ansible-playbook     post1.yml     1    1.254149         18.6   \n",
       "1           ansible-playbook    post10.yml    10    2.775639         20.7   \n",
       "2           ansible-playbook   post100.yml   100   20.870235         20.8   \n",
       "3           ansible-playbook  post1000.yml  1000  203.139055         21.1   \n",
       "\n",
       "   memory_usage  \n",
       "0     136265728  \n",
       "1     140656640  \n",
       "2     138641408  \n",
       "3     145588224  \n",
       "0     136544256  \n",
       "1     136658944  \n",
       "2     140853248  \n",
       "3     152338432  \n",
       "0      53641216  \n",
       "1      52969472  \n",
       "2      56082432  \n",
       "3      69992448  "
      ]
     },
     "execution_count": 4,
     "metadata": {},
     "output_type": "execute_result"
    }
   ],
   "source": [
    "df_rulebook = pandas.read_csv('../results/rulebook20240109103612.csv')\n",
    "df_rulebook_parallel = pandas.read_csv('../results/parallel_rulebook20240109110308.csv')\n",
    "df_playbook = pandas.read_csv('../results/playbook20240109103840.csv')\n",
    "df = pandas.concat([df_rulebook, df_rulebook_parallel, df_playbook])\n",
    "df"
   ]
  },
  {
   "cell_type": "code",
   "execution_count": 5,
   "id": "887b6004-0b3c-474a-9a6f-ecf394797b9a",
   "metadata": {},
   "outputs": [
    {
     "data": {
      "text/html": [
       "<div>\n",
       "<style scoped>\n",
       "    .dataframe tbody tr th:only-of-type {\n",
       "        vertical-align: middle;\n",
       "    }\n",
       "\n",
       "    .dataframe tbody tr th {\n",
       "        vertical-align: top;\n",
       "    }\n",
       "\n",
       "    .dataframe thead th {\n",
       "        text-align: right;\n",
       "    }\n",
       "</style>\n",
       "<table border=\"1\" class=\"dataframe\">\n",
       "  <thead>\n",
       "    <tr style=\"text-align: right;\">\n",
       "      <th>name</th>\n",
       "      <th>ansible-playbook</th>\n",
       "      <th>ansible-rulebook</th>\n",
       "      <th>ansible-rulebook-parallel</th>\n",
       "    </tr>\n",
       "    <tr>\n",
       "      <th>n</th>\n",
       "      <th></th>\n",
       "      <th></th>\n",
       "      <th></th>\n",
       "    </tr>\n",
       "  </thead>\n",
       "  <tbody>\n",
       "    <tr>\n",
       "      <th>1</th>\n",
       "      <td>1.254149</td>\n",
       "      <td>1.045925</td>\n",
       "      <td>0.941165</td>\n",
       "    </tr>\n",
       "    <tr>\n",
       "      <th>10</th>\n",
       "      <td>2.775639</td>\n",
       "      <td>1.048567</td>\n",
       "      <td>0.938898</td>\n",
       "    </tr>\n",
       "    <tr>\n",
       "      <th>100</th>\n",
       "      <td>20.870235</td>\n",
       "      <td>1.151321</td>\n",
       "      <td>1.047143</td>\n",
       "    </tr>\n",
       "    <tr>\n",
       "      <th>1000</th>\n",
       "      <td>203.139055</td>\n",
       "      <td>3.072853</td>\n",
       "      <td>2.055027</td>\n",
       "    </tr>\n",
       "  </tbody>\n",
       "</table>\n",
       "</div>"
      ],
      "text/plain": [
       "name  ansible-playbook  ansible-rulebook  ansible-rulebook-parallel\n",
       "n                                                                  \n",
       "1             1.254149          1.045925                   0.941165\n",
       "10            2.775639          1.048567                   0.938898\n",
       "100          20.870235          1.151321                   1.047143\n",
       "1000        203.139055          3.072853                   2.055027"
      ]
     },
     "execution_count": 5,
     "metadata": {},
     "output_type": "execute_result"
    }
   ],
   "source": [
    "df2 = df.pivot(index=\"n\", columns=\"name\", values=\"time\")\n",
    "df2"
   ]
  },
  {
   "cell_type": "code",
   "execution_count": 6,
   "id": "82cfdd24-cf07-4379-ae55-6eb754afcc5e",
   "metadata": {},
   "outputs": [
    {
     "data": {
      "text/plain": [
       "<Axes: title={'center': 'Local Module Execution Duration'}, xlabel='num hosts', ylabel='time in seconds'>"
      ]
     },
     "execution_count": 6,
     "metadata": {},
     "output_type": "execute_result"
    },
    {
     "data": {
      "image/png": "[encoded data removed]",
      "text/plain": [
       "<Figure size 640x480 with 1 Axes>"
      ]
     },
     "metadata": {},
     "output_type": "display_data"
    }
   ],
   "source": [
    "df2.plot.bar(title=\"Local Module Execution Duration\", ylabel=\"time in seconds\", xlabel=\"num hosts\")\n"
   ]
  },
  {
   "cell_type": "code",
   "execution_count": 7,
   "id": "6decf941-c68a-451c-92eb-22cc2830b523",
   "metadata": {},
   "outputs": [
    {
     "data": {
      "text/html": [
       "<div>\n",
       "<style scoped>\n",
       "    .dataframe tbody tr th:only-of-type {\n",
       "        vertical-align: middle;\n",
       "    }\n",
       "\n",
       "    .dataframe tbody tr th {\n",
       "        vertical-align: top;\n",
       "    }\n",
       "\n",
       "    .dataframe thead th {\n",
       "        text-align: right;\n",
       "    }\n",
       "</style>\n",
       "<table border=\"1\" class=\"dataframe\">\n",
       "  <thead>\n",
       "    <tr style=\"text-align: right;\">\n",
       "      <th></th>\n",
       "      <th>rulebook_speedup</th>\n",
       "      <th>rulebook_parallel_speedup</th>\n",
       "    </tr>\n",
       "    <tr>\n",
       "      <th>n</th>\n",
       "      <th></th>\n",
       "      <th></th>\n",
       "    </tr>\n",
       "  </thead>\n",
       "  <tbody>\n",
       "    <tr>\n",
       "      <th>1</th>\n",
       "      <td>1.199081</td>\n",
       "      <td>1.332550</td>\n",
       "    </tr>\n",
       "    <tr>\n",
       "      <th>10</th>\n",
       "      <td>2.647078</td>\n",
       "      <td>2.956273</td>\n",
       "    </tr>\n",
       "    <tr>\n",
       "      <th>100</th>\n",
       "      <td>18.127205</td>\n",
       "      <td>19.930640</td>\n",
       "    </tr>\n",
       "    <tr>\n",
       "      <th>1000</th>\n",
       "      <td>66.107636</td>\n",
       "      <td>98.849811</td>\n",
       "    </tr>\n",
       "  </tbody>\n",
       "</table>\n",
       "</div>"
      ],
      "text/plain": [
       "      rulebook_speedup  rulebook_parallel_speedup\n",
       "n                                                \n",
       "1             1.199081                   1.332550\n",
       "10            2.647078                   2.956273\n",
       "100          18.127205                  19.930640\n",
       "1000         66.107636                  98.849811"
      ]
     },
     "execution_count": 7,
     "metadata": {},
     "output_type": "execute_result"
    }
   ],
   "source": [
    "rulebook_speedup = df2['ansible-playbook'] / df2['ansible-rulebook']\n",
    "rulebook_speedup = pandas.DataFrame(rulebook_speedup, columns=['rulebook_speedup'])\n",
    "#rulebook_speedup\n",
    "\n",
    "rulebook_parallel_speedup = df2['ansible-playbook'] / df2['ansible-rulebook-parallel']\n",
    "rulebook_parallel_speedup = pandas.DataFrame(rulebook_parallel_speedup, columns=['rulebook_parallel_speedup'])\n",
    "#ftl_async_speedup\n",
    "\n",
    "df_speedup = pandas.concat([rulebook_speedup, rulebook_parallel_speedup], axis=1)\n",
    "df_speedup"
   ]
  },
  {
   "cell_type": "code",
   "execution_count": 8,
   "id": "3afc4378-53df-4dee-ae55-7dc59a8e998b",
   "metadata": {},
   "outputs": [
    {
     "data": {
      "text/plain": [
       "<Axes: title={'center': 'Rulebook speedup'}, xlabel='num tasks', ylabel='speedup'>"
      ]
     },
     "execution_count": 8,
     "metadata": {},
     "output_type": "execute_result"
    },
    {
     "data": {
      "image/png": "[encoded data removed]",
      "text/plain": [
       "<Figure size 640x480 with 1 Axes>"
      ]
     },
     "metadata": {},
     "output_type": "display_data"
    }
   ],
   "source": [
    "df_speedup.plot.bar(title=\"Rulebook speedup\", xlabel=\"num tasks\", ylabel=\"speedup\")"
   ]
  },
  {
   "cell_type": "code",
   "execution_count": null,
   "id": "e4100e20-3f85-4a0e-bd12-f49c77ba1a6d",
   "metadata": {},
   "outputs": [],
   "source": []
  },
  {
   "cell_type": "code",
   "execution_count": null,
   "id": "45fc7bfc-9eeb-426a-8302-ceb5f1fbf073",
   "metadata": {},
   "outputs": [],
   "source": []
  }
 ],
 "metadata": {
  "kernelspec": {
   "display_name": "Python 3 (ipykernel)",
   "language": "python",
   "name": "python3"
  },
  "language_info": {
   "codemirror_mode": {
    "name": "ipython",
    "version": 3
   },
   "file_extension": ".py",
   "mimetype": "text/x-python",
   "name": "python",
   "nbconvert_exporter": "python",
   "pygments_lexer": "ipython3",
   "version": "3.9.18"
  }
 },
 "nbformat": 4,
 "nbformat_minor": 5
}
